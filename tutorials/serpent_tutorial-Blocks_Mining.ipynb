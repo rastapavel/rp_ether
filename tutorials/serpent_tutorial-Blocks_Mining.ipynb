{
 "cells": [
  {
   "cell_type": "markdown",
   "metadata": {},
   "source": [
    "# Blocks and Mining\n",
    "\n",
    "In this tutorial, we experiment with [`blocks.py`](https://github.com/ethereum/pyethereum/blob/develop/ethereum/blocks.py). This link is to the 'develop' branch, so no guarantee that things won't change . . ."
   ]
  },
  {
   "cell_type": "code",
   "execution_count": 157,
   "metadata": {
    "collapsed": false
   },
   "outputs": [],
   "source": [
    "import serpent\n",
    "from ethereum import tester as t, utils as u, abi\n",
    "\n",
    "s = t.state()"
   ]
  },
  {
   "cell_type": "markdown",
   "metadata": {},
   "source": [
    "This is our pristine test blockchain (aka 'genesis block'). Let's see what it looks like."
   ]
  },
  {
   "cell_type": "code",
   "execution_count": 158,
   "metadata": {
    "collapsed": false
   },
   "outputs": [
    {
     "name": "stdout",
     "output_type": "stream",
     "text": [
      "0\n",
      "None\n"
     ]
    },
    {
     "data": {
      "text/plain": [
       "'\\xf9\\x01\\xfd\\xf9\\x01\\xf8\\xa0\\x00\\x00\\x00\\x00\\x00\\x00\\x00\\x00\\x00\\x00\\x00\\x00\\x00\\x00\\x00\\x00\\x00\\x00\\x00\\x00\\x00\\x00\\x00\\x00\\x00\\x00\\x00\\x00\\x00\\x00\\x00\\x00\\xa0\\x1d\\xccM\\xe8\\xde\\xc7]z\\xab\\x85\\xb5g\\xb6\\xcc\\xd4\\x1a\\xd3\\x12E\\x1b\\x94\\x8at\\x13\\xf0\\xa1B\\xfd@\\xd4\\x93G\\x94\\x82\\xa9x\\xb3\\xf5\\x96*[\\tW\\xd9\\xee\\x9e\\xefG.\\xe5[B\\xf1\\xa0u.N\\xd7j\\xba\\xc9\\x98S\\xaf\\xd1\\xc0\\xbeg\\x9e\\xa3\\xef\\xfa\\x15\\xaf7\\xb6\\x1a\\x9d\\xc4\\xe5\\xad@\\x87\\xca\\xf9\\xb7\\xa0V\\xe8\\x1f\\x17\\x1b\\xccU\\xa6\\xff\\x83E\\xe6\\x92\\xc0\\xf8n[H\\xe0\\x1b\\x99l\\xad\\xc0\\x01b/\\xb5\\xe3c\\xb4!\\xa0V\\xe8\\x1f\\x17\\x1b\\xccU\\xa6\\xff\\x83E\\xe6\\x92\\xc0\\xf8n[H\\xe0\\x1b\\x99l\\xad\\xc0\\x01b/\\xb5\\xe3c\\xb4!\\xb9\\x01\\x00\\x00\\x00\\x00\\x00\\x00\\x00\\x00\\x00\\x00\\x00\\x00\\x00\\x00\\x00\\x00\\x00\\x00\\x00\\x00\\x00\\x00\\x00\\x00\\x00\\x00\\x00\\x00\\x00\\x00\\x00\\x00\\x00\\x00\\x00\\x00\\x00\\x00\\x00\\x00\\x00\\x00\\x00\\x00\\x00\\x00\\x00\\x00\\x00\\x00\\x00\\x00\\x00\\x00\\x00\\x00\\x00\\x00\\x00\\x00\\x00\\x00\\x00\\x00\\x00\\x00\\x00\\x00\\x00\\x00\\x00\\x00\\x00\\x00\\x00\\x00\\x00\\x00\\x00\\x00\\x00\\x00\\x00\\x00\\x00\\x00\\x00\\x00\\x00\\x00\\x00\\x00\\x00\\x00\\x00\\x00\\x00\\x00\\x00\\x00\\x00\\x00\\x00\\x00\\x00\\x00\\x00\\x00\\x00\\x00\\x00\\x00\\x00\\x00\\x00\\x00\\x00\\x00\\x00\\x00\\x00\\x00\\x00\\x00\\x00\\x00\\x00\\x00\\x00\\x00\\x00\\x00\\x00\\x00\\x00\\x00\\x00\\x00\\x00\\x00\\x00\\x00\\x00\\x00\\x00\\x00\\x00\\x00\\x00\\x00\\x00\\x00\\x00\\x00\\x00\\x00\\x00\\x00\\x00\\x00\\x00\\x00\\x00\\x00\\x00\\x00\\x00\\x00\\x00\\x00\\x00\\x00\\x00\\x00\\x00\\x00\\x00\\x00\\x00\\x00\\x00\\x00\\x00\\x00\\x00\\x00\\x00\\x00\\x00\\x00\\x00\\x00\\x00\\x00\\x00\\x00\\x00\\x00\\x00\\x00\\x00\\x00\\x00\\x00\\x00\\x00\\x00\\x00\\x00\\x00\\x00\\x00\\x00\\x00\\x00\\x00\\x00\\x00\\x00\\x00\\x00\\x00\\x00\\x00\\x00\\x00\\x00\\x00\\x00\\x00\\x00\\x00\\x00\\x00\\x00\\x00\\x00\\x00\\x00\\x00\\x00\\x00\\x00\\x00\\x00\\x00\\x00\\x00\\x00\\x00\\x00\\x00\\x00\\x00\\x00\\x00\\x00\\x83\\x02\\x00\\x00\\x80\\x84;\\x9a\\xca\\x00\\x80\\x84T\\x19\\xbe\\xa5\\x80\\xa0\\x00\\x00\\x00\\x00\\x00\\x00\\x00\\x00\\x00\\x00\\x00\\x00\\x00\\x00\\x00\\x00\\x00\\x00\\x00\\x00\\x00\\x00\\x00\\x00\\x00\\x00\\x00\\x00\\x00\\x00\\x00\\x00\\x88\\x00\\x00\\x00\\x00\\x00\\x00\\x00*\\xc0\\xc0'"
      ]
     },
     "execution_count": 158,
     "metadata": {},
     "output_type": "execute_result"
    }
   ],
   "source": [
    "print(s.block.number)\n",
    "snap_01 = s.snapshot()\n",
    "print(s.last_tx)\n",
    "snap_01"
   ]
  },
  {
   "cell_type": "markdown",
   "metadata": {},
   "source": [
    "Continuing with our trial-and-error philosophy, let's see what happens if we compile a smart contract"
   ]
  },
  {
   "cell_type": "code",
   "execution_count": 159,
   "metadata": {
    "collapsed": false
   },
   "outputs": [
    {
     "name": "stdout",
     "output_type": "stream",
     "text": [
      "('b1', 1000000000000000000000000L)\n",
      "('b2', 999999999999999996858408L)\n",
      "('b3', 1000000000000000000000000L, 1)\n",
      "None\n"
     ]
    },
    {
     "data": {
      "text/plain": [
       "'\\xf9\\x02\\xbd\\xf9\\x01\\xfa\\xa0\\x00\\x00\\x00\\x00\\x00\\x00\\x00\\x00\\x00\\x00\\x00\\x00\\x00\\x00\\x00\\x00\\x00\\x00\\x00\\x00\\x00\\x00\\x00\\x00\\x00\\x00\\x00\\x00\\x00\\x00\\x00\\x00\\xa0\\x1d\\xccM\\xe8\\xde\\xc7]z\\xab\\x85\\xb5g\\xb6\\xcc\\xd4\\x1a\\xd3\\x12E\\x1b\\x94\\x8at\\x13\\xf0\\xa1B\\xfd@\\xd4\\x93G\\x94\\x82\\xa9x\\xb3\\xf5\\x96*[\\tW\\xd9\\xee\\x9e\\xefG.\\xe5[B\\xf1\\xa0\\xda\\x88\\xe4?\\xa6\\x9a\\xfd\\xd3+F\\xca\\x93\\x8f\\x93\\x07\\x99\\x08\\xf5\\xaf\\xdc\\xe9\\xbf./\\xe0\\xf2\\xbf\\xff\\xab\\x08\\xe1\\xbb\\xa0\\x83\\x0e\\xcf\\x01:\\x05\\xce\\xb3\\x9a\\x03\\x00{\\x93s\\xd0`v\\xb5\\xe6d\\xd3\\xc0cT\\xc5$\\xd7nk\\x80\\x15\\xbf\\xa0\\xdc\\xdc|\\xb0\\x9b{\\xf4\\x9a\\x9d\\xc5f_\\xfcQ\\xf7\\x01\\x7f\\xe5+Z\\xc3\\x9f\\x13\\x8b\\xa7\\xc3M=S\\xcai!\\xb9\\x01\\x00\\x00\\x00\\x00\\x00\\x00\\x00\\x00\\x00\\x00\\x00\\x00\\x00\\x00\\x00\\x00\\x00\\x00\\x00\\x00\\x00\\x00\\x00\\x00\\x00\\x00\\x00\\x00\\x00\\x00\\x00\\x00\\x00\\x00\\x00\\x00\\x00\\x00\\x00\\x00\\x00\\x00\\x00\\x00\\x00\\x00\\x00\\x00\\x00\\x00\\x00\\x00\\x00\\x00\\x00\\x00\\x00\\x00\\x00\\x00\\x00\\x00\\x00\\x00\\x00\\x00\\x00\\x00\\x00\\x00\\x00\\x00\\x00\\x00\\x00\\x00\\x00\\x00\\x00\\x00\\x00\\x00\\x00\\x00\\x00\\x00\\x00\\x00\\x00\\x00\\x00\\x00\\x00\\x00\\x00\\x00\\x00\\x00\\x00\\x00\\x00\\x00\\x00\\x00\\x00\\x00\\x00\\x00\\x00\\x00\\x00\\x00\\x00\\x00\\x00\\x00\\x00\\x00\\x00\\x00\\x00\\x00\\x00\\x00\\x00\\x00\\x00\\x00\\x00\\x00\\x00\\x00\\x00\\x00\\x00\\x00\\x00\\x00\\x00\\x00\\x00\\x00\\x00\\x00\\x00\\x00\\x00\\x00\\x00\\x00\\x00\\x00\\x00\\x00\\x00\\x00\\x00\\x00\\x00\\x00\\x00\\x00\\x00\\x00\\x00\\x00\\x00\\x00\\x00\\x00\\x00\\x00\\x00\\x00\\x00\\x00\\x00\\x00\\x00\\x00\\x00\\x00\\x00\\x00\\x00\\x00\\x00\\x00\\x00\\x00\\x00\\x00\\x00\\x00\\x00\\x00\\x00\\x00\\x00\\x00\\x00\\x00\\x00\\x00\\x00\\x00\\x00\\x00\\x00\\x00\\x00\\x00\\x00\\x00\\x00\\x00\\x00\\x00\\x00\\x00\\x00\\x00\\x00\\x00\\x00\\x00\\x00\\x00\\x00\\x00\\x00\\x00\\x00\\x00\\x00\\x00\\x00\\x00\\x00\\x00\\x00\\x00\\x00\\x00\\x00\\x00\\x00\\x00\\x00\\x00\\x00\\x00\\x00\\x00\\x00\\x00\\x00\\x83\\x02\\x00\\x00\\x80\\x84;\\x9a\\xca\\x00\\x82\\xfa\\xe6\\x84T\\x19\\xbe\\xa5\\x80\\xa0\\x00\\x00\\x00\\x00\\x00\\x00\\x00\\x00\\x00\\x00\\x00\\x00\\x00\\x00\\x00\\x00\\x00\\x00\\x00\\x00\\x00\\x00\\x00\\x00\\x00\\x00\\x00\\x00\\x00\\x00\\x00\\x00\\x88\\x00\\x00\\x00\\x00\\x00\\x00\\x00*\\xf8\\xbd\\xf8\\xbb\\x80\\x01\\x83/\\xef\\xd8\\x80\\x80\\xb8n`*`\\x00U`Z\\x80`\\x10`\\x009`jV|\\x01\\x00\\x00\\x00\\x00\\x00\\x00\\x00\\x00\\x00\\x00\\x00\\x00\\x00\\x00\\x00\\x00\\x00\\x00\\x00\\x00\\x00\\x00\\x00\\x00\\x00\\x00\\x00\\x00`\\x005\\x04c\\x82Pvd\\x81\\x14\\x15`8W`\\x00T`@R` `@\\xf3[c\\x90\\x90-\\xbb\\x81\\x14\\x15`XW`\\x01`\\x00T\\x01`\\x00U`\\x00T``R` ``\\xf3[P[`\\x00\\xf3\\x1c\\xa0\\xf97;\\xa9Y\\xf8Z*\\xcd\\xd1\\xd8\\xb6R%\\xd8U\\xc6\\x00\\x910\\xdfQ;K\\xf7\\xb4\\x8a?0\\x8eB\\xeb\\xa05M\\x19r\\xbb\\xc9\\x96\\xd9\\xfe#I%:\\x07\\xde\\xe2T20q\\xf5\\x03\\xad0\\xd3d\\x16\\xadi\\n_%\\xc0'"
      ]
     },
     "execution_count": 159,
     "metadata": {},
     "output_type": "execute_result"
    }
   ],
   "source": [
    "serpent_vars_basic = '''\n",
    "data x # Declare variable x. By default, x is numeric\n",
    "\n",
    "def init():\n",
    "    self.x = 42\n",
    "    \n",
    "def ask_x():\n",
    "    return(self.x)\n",
    "\n",
    "def incr_x():\n",
    "    self.x = self.x + 1\n",
    "    return(self.x)\n",
    "\n",
    "'''\n",
    "\n",
    "#s = t.state() # Commented out, since we don't need to reboot out test blockchain\n",
    "c = s.abi_contract(serpent_vars_basic)\n",
    "print(s.last_tx) # Still no transactions\n",
    "snap_02 = s.snapshot()\n",
    "snap_02 # But the proto-block has changed nevertheless"
   ]
  },
  {
   "cell_type": "markdown",
   "metadata": {},
   "source": [
    "Our proto-block has gotten longer. But that is not all. Note that the 2nd hash code has incremented from `\\x01` to `\\x02`. Nevertheless, these do not count as 'transactions,' since `s.last_tx` still returns `none`.\n",
    "\n",
    "Now let's ask the contract to do things and see what happens."
   ]
  },
  {
   "cell_type": "code",
   "execution_count": 160,
   "metadata": {
    "collapsed": false,
    "scrolled": false
   },
   "outputs": [
    {
     "name": "stdout",
     "output_type": "stream",
     "text": [
      "('b1', 1000000000000000000000000L)\n",
      "('b2', 999999999999999996858408L)\n",
      "('b3', 1000000000000000000000000L, 1)\n",
      "43\n",
      "<Transaction(0900)>\n",
      "('b1', 1000000000000000000000000L)\n",
      "('b2', 999999999999999996858408L)\n",
      "('b3', 1000000000000000000000000L, 1)\n",
      "43\n",
      "<Transaction(aed3)>\n"
     ]
    },
    {
     "data": {
      "text/plain": [
       "'\\xf9\\x03\\x8b\\xf9\\x01\\xfb\\xa0\\x00\\x00\\x00\\x00\\x00\\x00\\x00\\x00\\x00\\x00\\x00\\x00\\x00\\x00\\x00\\x00\\x00\\x00\\x00\\x00\\x00\\x00\\x00\\x00\\x00\\x00\\x00\\x00\\x00\\x00\\x00\\x00\\xa0\\x1d\\xccM\\xe8\\xde\\xc7]z\\xab\\x85\\xb5g\\xb6\\xcc\\xd4\\x1a\\xd3\\x12E\\x1b\\x94\\x8at\\x13\\xf0\\xa1B\\xfd@\\xd4\\x93G\\x94\\x82\\xa9x\\xb3\\xf5\\x96*[\\tW\\xd9\\xee\\x9e\\xefG.\\xe5[B\\xf1\\xa0\\xb5\\xfd\\xb1\\xeb\\xf6VK+\\x87\\x8e\\x18\\xd6\\xbc\\xcd\\xa4\\x98\\xab\\xc3\\x9f\\x93\\xd1\\xa0E\\x8cZ\\x03\\xc9\\xa3\\x1d\\x0c\\x96S\\xa0\\xf2\\xb5\\xcd\\xaeV\\xe9\\x11S\\x1d]\\x1d\\x89\\xafA\\x8a\\x95\\xfd\\xae\\xc5%\\x9cd\\xd1\\xc58\\x1a\\x05\\xc5\\x0b\\xc6\\xd41\\xa0\\xb0\\xceK\\xfb\\x8e\\x13\\xf9+\\x97\\x0f\\xde\\x06\\xb7\\xa8\\xfe\\t\\xe7W\\xbf \\x80\\x82V\\x04_\\xc7\\xb8W\\xc3,!K\\xb9\\x01\\x00\\x00\\x00\\x00\\x00\\x00\\x00\\x00\\x00\\x00\\x00\\x00\\x00\\x00\\x00\\x00\\x00\\x00\\x00\\x00\\x00\\x00\\x00\\x00\\x00\\x00\\x00\\x00\\x00\\x00\\x00\\x00\\x00\\x00\\x00\\x00\\x00\\x00\\x00\\x00\\x00\\x00\\x00\\x00\\x00\\x00\\x00\\x00\\x00\\x00\\x00\\x00\\x00\\x00\\x00\\x00\\x00\\x00\\x00\\x00\\x00\\x00\\x00\\x00\\x00\\x00\\x00\\x00\\x00\\x00\\x00\\x00\\x00\\x00\\x00\\x00\\x00\\x00\\x00\\x00\\x00\\x00\\x00\\x00\\x00\\x00\\x00\\x00\\x00\\x00\\x00\\x00\\x00\\x00\\x00\\x00\\x00\\x00\\x00\\x00\\x00\\x00\\x00\\x00\\x00\\x00\\x00\\x00\\x00\\x00\\x00\\x00\\x00\\x00\\x00\\x00\\x00\\x00\\x00\\x00\\x00\\x00\\x00\\x00\\x00\\x00\\x00\\x00\\x00\\x00\\x00\\x00\\x00\\x00\\x00\\x00\\x00\\x00\\x00\\x00\\x00\\x00\\x00\\x00\\x00\\x00\\x00\\x00\\x00\\x00\\x00\\x00\\x00\\x00\\x00\\x00\\x00\\x00\\x00\\x00\\x00\\x00\\x00\\x00\\x00\\x00\\x00\\x00\\x00\\x00\\x00\\x00\\x00\\x00\\x00\\x00\\x00\\x00\\x00\\x00\\x00\\x00\\x00\\x00\\x00\\x00\\x00\\x00\\x00\\x00\\x00\\x00\\x00\\x00\\x00\\x00\\x00\\x00\\x00\\x00\\x00\\x00\\x00\\x00\\x00\\x00\\x00\\x00\\x00\\x00\\x00\\x00\\x00\\x00\\x00\\x00\\x00\\x00\\x00\\x00\\x00\\x00\\x00\\x00\\x00\\x00\\x00\\x00\\x00\\x00\\x00\\x00\\x00\\x00\\x00\\x00\\x00\\x00\\x00\\x00\\x00\\x00\\x00\\x00\\x00\\x00\\x00\\x00\\x00\\x00\\x00\\x00\\x00\\x00\\x00\\x00\\x00\\x83\\x02\\x00\\x00\\x80\\x84;\\x9a\\xca\\x00\\x83\\x01\\xb5\\xdb\\x84T\\x19\\xbe\\xa5\\x80\\xa0\\x00\\x00\\x00\\x00\\x00\\x00\\x00\\x00\\x00\\x00\\x00\\x00\\x00\\x00\\x00\\x00\\x00\\x00\\x00\\x00\\x00\\x00\\x00\\x00\\x00\\x00\\x00\\x00\\x00\\x00\\x00\\x00\\x88\\x00\\x00\\x00\\x00\\x00\\x00\\x00*\\xf9\\x01\\x89\\xf8\\xbb\\x80\\x01\\x83/\\xef\\xd8\\x80\\x80\\xb8n`*`\\x00U`Z\\x80`\\x10`\\x009`jV|\\x01\\x00\\x00\\x00\\x00\\x00\\x00\\x00\\x00\\x00\\x00\\x00\\x00\\x00\\x00\\x00\\x00\\x00\\x00\\x00\\x00\\x00\\x00\\x00\\x00\\x00\\x00\\x00\\x00`\\x005\\x04c\\x82Pvd\\x81\\x14\\x15`8W`\\x00T`@R` `@\\xf3[c\\x90\\x90-\\xbb\\x81\\x14\\x15`XW`\\x01`\\x00T\\x01`\\x00U`\\x00T``R` ``\\xf3[P[`\\x00\\xf3\\x1c\\xa0\\xf97;\\xa9Y\\xf8Z*\\xcd\\xd1\\xd8\\xb6R%\\xd8U\\xc6\\x00\\x910\\xdfQ;K\\xf7\\xb4\\x8a?0\\x8eB\\xeb\\xa05M\\x19r\\xbb\\xc9\\x96\\xd9\\xfe#I%:\\x07\\xde\\xe2T20q\\xf5\\x03\\xad0\\xd3d\\x16\\xadi\\n_%\\xf8d\\x01\\x01\\x83/\\xef\\xd8\\x94\\xc3\\x05\\xc9\\x01\\x07\\x87\\x81\\xc22\\xa2\\xa5!\\xc2\\xafy\\x80\\xf88^\\xe9\\x80\\x84\\x90\\x90-\\xbb\\x1b\\xa0\\xde\\x7f)]\\xec\\x9b6H\\xee\\x14J#\\xd2\\x1c\\xf3H\\xab\\xd0\\xe4}\\x03_xSsgt\\x8e\\x99X\"\\x86\\xa0\\x1fy\\xfd\\x9bagd\\t|PI\\xfa\\xc8\\x03\\x01)U \\x88\\xd6\\xcc\\x8d\\xa9\\xfa\\xaf\\xfe@\\x98\\xbf;c\\xdc\\xf8d\\x02\\x01\\x83/\\xef\\xd8\\x94\\xc3\\x05\\xc9\\x01\\x07\\x87\\x81\\xc22\\xa2\\xa5!\\xc2\\xafy\\x80\\xf88^\\xe9\\x80\\x84\\x82Pvd\\x1b\\xa0\\x89\\x86%\\x912\\xdd\\xec\\xf3\\x8b\\xf6\\xbc\\xf6\\xa9\\'ZkA\\xb5:\\x7f\\xb4\\x19[Q\\x8c\\xc9%\\x96\\xb5\\x14\\x0f2\\xa0+\\x8e\\xd4\\xfb\\x97\\xa4\\xfb\\xa2tT\\xf0\\x17\\x14_\\xa4\\x8fF\\x0b\\xa6\\xee\\xec\\xda\\xec<y->\\x9bW\\xcfP\\x17\\xc0'"
      ]
     },
     "execution_count": 160,
     "metadata": {},
     "output_type": "execute_result"
    }
   ],
   "source": [
    "print(c.incr_x())\n",
    "print(s.last_tx)\n",
    "print(c.ask_x())\n",
    "print(s.last_tx)\n",
    "snap_03 = s.snapshot()\n",
    "snap_03\n"
   ]
  },
  {
   "cell_type": "markdown",
   "metadata": {},
   "source": [
    "Longer still. Let's repeat and see what happens."
   ]
  },
  {
   "cell_type": "code",
   "execution_count": 161,
   "metadata": {
    "collapsed": false
   },
   "outputs": [
    {
     "name": "stdout",
     "output_type": "stream",
     "text": [
      "('b1', 1000000000000000000000000L)\n",
      "('b2', 999999999999999996858408L)\n",
      "('b3', 1000000000000000000000000L, 1)\n",
      "44\n",
      "<Transaction(9859)>\n",
      "('b1', 1000000000000000000000000L)\n",
      "('b2', 999999999999999996858408L)\n",
      "('b3', 1000000000000000000000000L, 1)\n",
      "44\n",
      "<Transaction(e370)>\n"
     ]
    },
    {
     "data": {
      "text/plain": [
       "'\\xf9\\x04W\\xf9\\x01\\xfb\\xa0\\x00\\x00\\x00\\x00\\x00\\x00\\x00\\x00\\x00\\x00\\x00\\x00\\x00\\x00\\x00\\x00\\x00\\x00\\x00\\x00\\x00\\x00\\x00\\x00\\x00\\x00\\x00\\x00\\x00\\x00\\x00\\x00\\xa0\\x1d\\xccM\\xe8\\xde\\xc7]z\\xab\\x85\\xb5g\\xb6\\xcc\\xd4\\x1a\\xd3\\x12E\\x1b\\x94\\x8at\\x13\\xf0\\xa1B\\xfd@\\xd4\\x93G\\x94\\x82\\xa9x\\xb3\\xf5\\x96*[\\tW\\xd9\\xee\\x9e\\xefG.\\xe5[B\\xf1\\xa0a\\xbf\\xa9\\xd5S-]1$G\\\\@\\x1d\\x1c\\x03\\xa1J\\xd6\\xb6vX\\x9b\\x99\\xaf7h\\xa0k\\t\\xa1\\xf8h\\xa0\\x9el\\x18#Zrr\"\\xb4\\x8b\\xd8\\x17Z@A\\xb1\\xe6\\xab\\x14t\\xd8 dFS\\xf9{\\xec\\xe2\\xde\\xda\\xf0\\xa01\\xbe\\xf3\\xe5O|\\xc2\\x01d0*I>\\x08\\xf7H\\xa9\\xac\\x0e\\xb8\\xa4\\xaaz~)D$\\x98\\x83(cy\\xb9\\x01\\x00\\x00\\x00\\x00\\x00\\x00\\x00\\x00\\x00\\x00\\x00\\x00\\x00\\x00\\x00\\x00\\x00\\x00\\x00\\x00\\x00\\x00\\x00\\x00\\x00\\x00\\x00\\x00\\x00\\x00\\x00\\x00\\x00\\x00\\x00\\x00\\x00\\x00\\x00\\x00\\x00\\x00\\x00\\x00\\x00\\x00\\x00\\x00\\x00\\x00\\x00\\x00\\x00\\x00\\x00\\x00\\x00\\x00\\x00\\x00\\x00\\x00\\x00\\x00\\x00\\x00\\x00\\x00\\x00\\x00\\x00\\x00\\x00\\x00\\x00\\x00\\x00\\x00\\x00\\x00\\x00\\x00\\x00\\x00\\x00\\x00\\x00\\x00\\x00\\x00\\x00\\x00\\x00\\x00\\x00\\x00\\x00\\x00\\x00\\x00\\x00\\x00\\x00\\x00\\x00\\x00\\x00\\x00\\x00\\x00\\x00\\x00\\x00\\x00\\x00\\x00\\x00\\x00\\x00\\x00\\x00\\x00\\x00\\x00\\x00\\x00\\x00\\x00\\x00\\x00\\x00\\x00\\x00\\x00\\x00\\x00\\x00\\x00\\x00\\x00\\x00\\x00\\x00\\x00\\x00\\x00\\x00\\x00\\x00\\x00\\x00\\x00\\x00\\x00\\x00\\x00\\x00\\x00\\x00\\x00\\x00\\x00\\x00\\x00\\x00\\x00\\x00\\x00\\x00\\x00\\x00\\x00\\x00\\x00\\x00\\x00\\x00\\x00\\x00\\x00\\x00\\x00\\x00\\x00\\x00\\x00\\x00\\x00\\x00\\x00\\x00\\x00\\x00\\x00\\x00\\x00\\x00\\x00\\x00\\x00\\x00\\x00\\x00\\x00\\x00\\x00\\x00\\x00\\x00\\x00\\x00\\x00\\x00\\x00\\x00\\x00\\x00\\x00\\x00\\x00\\x00\\x00\\x00\\x00\\x00\\x00\\x00\\x00\\x00\\x00\\x00\\x00\\x00\\x00\\x00\\x00\\x00\\x00\\x00\\x00\\x00\\x00\\x00\\x00\\x00\\x00\\x00\\x00\\x00\\x00\\x00\\x00\\x00\\x00\\x00\\x00\\x00\\x83\\x02\\x00\\x00\\x80\\x84;\\x9a\\xca\\x00\\x83\\x02p\\xd0\\x84T\\x19\\xbe\\xa5\\x80\\xa0\\x00\\x00\\x00\\x00\\x00\\x00\\x00\\x00\\x00\\x00\\x00\\x00\\x00\\x00\\x00\\x00\\x00\\x00\\x00\\x00\\x00\\x00\\x00\\x00\\x00\\x00\\x00\\x00\\x00\\x00\\x00\\x00\\x88\\x00\\x00\\x00\\x00\\x00\\x00\\x00*\\xf9\\x02U\\xf8\\xbb\\x80\\x01\\x83/\\xef\\xd8\\x80\\x80\\xb8n`*`\\x00U`Z\\x80`\\x10`\\x009`jV|\\x01\\x00\\x00\\x00\\x00\\x00\\x00\\x00\\x00\\x00\\x00\\x00\\x00\\x00\\x00\\x00\\x00\\x00\\x00\\x00\\x00\\x00\\x00\\x00\\x00\\x00\\x00\\x00\\x00`\\x005\\x04c\\x82Pvd\\x81\\x14\\x15`8W`\\x00T`@R` `@\\xf3[c\\x90\\x90-\\xbb\\x81\\x14\\x15`XW`\\x01`\\x00T\\x01`\\x00U`\\x00T``R` ``\\xf3[P[`\\x00\\xf3\\x1c\\xa0\\xf97;\\xa9Y\\xf8Z*\\xcd\\xd1\\xd8\\xb6R%\\xd8U\\xc6\\x00\\x910\\xdfQ;K\\xf7\\xb4\\x8a?0\\x8eB\\xeb\\xa05M\\x19r\\xbb\\xc9\\x96\\xd9\\xfe#I%:\\x07\\xde\\xe2T20q\\xf5\\x03\\xad0\\xd3d\\x16\\xadi\\n_%\\xf8d\\x01\\x01\\x83/\\xef\\xd8\\x94\\xc3\\x05\\xc9\\x01\\x07\\x87\\x81\\xc22\\xa2\\xa5!\\xc2\\xafy\\x80\\xf88^\\xe9\\x80\\x84\\x90\\x90-\\xbb\\x1b\\xa0\\xde\\x7f)]\\xec\\x9b6H\\xee\\x14J#\\xd2\\x1c\\xf3H\\xab\\xd0\\xe4}\\x03_xSsgt\\x8e\\x99X\"\\x86\\xa0\\x1fy\\xfd\\x9bagd\\t|PI\\xfa\\xc8\\x03\\x01)U \\x88\\xd6\\xcc\\x8d\\xa9\\xfa\\xaf\\xfe@\\x98\\xbf;c\\xdc\\xf8d\\x02\\x01\\x83/\\xef\\xd8\\x94\\xc3\\x05\\xc9\\x01\\x07\\x87\\x81\\xc22\\xa2\\xa5!\\xc2\\xafy\\x80\\xf88^\\xe9\\x80\\x84\\x82Pvd\\x1b\\xa0\\x89\\x86%\\x912\\xdd\\xec\\xf3\\x8b\\xf6\\xbc\\xf6\\xa9\\'ZkA\\xb5:\\x7f\\xb4\\x19[Q\\x8c\\xc9%\\x96\\xb5\\x14\\x0f2\\xa0+\\x8e\\xd4\\xfb\\x97\\xa4\\xfb\\xa2tT\\xf0\\x17\\x14_\\xa4\\x8fF\\x0b\\xa6\\xee\\xec\\xda\\xec<y->\\x9bW\\xcfP\\x17\\xf8d\\x03\\x01\\x83/\\xef\\xd8\\x94\\xc3\\x05\\xc9\\x01\\x07\\x87\\x81\\xc22\\xa2\\xa5!\\xc2\\xafy\\x80\\xf88^\\xe9\\x80\\x84\\x90\\x90-\\xbb\\x1c\\xa0\\xad\\xda\\xf2~\\xd4T\\x016H\"V;+\\xcd\\x7f6\\xf0t\\x14^@\\xday\\xceB\\xcfr\\x167C*\\x04\\xa0S\\xa0\\x82pwYn\\x06|\\xc4A\\x14x\\xa5\\x84\\x9f\\xb9c\\x8di\\r\\xc5>I\\xb7?\\x1b\\x07\\x02[(\\xaa\\xf8d\\x04\\x01\\x83/\\xef\\xd8\\x94\\xc3\\x05\\xc9\\x01\\x07\\x87\\x81\\xc22\\xa2\\xa5!\\xc2\\xafy\\x80\\xf88^\\xe9\\x80\\x84\\x82Pvd\\x1b\\xa0\\x05P\\xc3\\xeaq\\x91\\x04/\\x94S\\xaa*\\x19mi\\xb6\\x9f\\x81+\\\\\\xdf\\x9dX\\xd9\\\\A\\x7f\\xa2\\xf6\\x17\\xeb\\xf1\\xa0<\\x1e\\x98\\x8e\\xe2 \\xa5N\\xc5\\x9f\\n\\xec\\x069w,\\x01*Q^\\x7f^\\xb2^v\\xe0\\xb0?\\xf8\\xe5\\xcf[\\xc0'"
      ]
     },
     "execution_count": 161,
     "metadata": {},
     "output_type": "execute_result"
    }
   ],
   "source": [
    "print(c.incr_x())\n",
    "print(s.last_tx)\n",
    "print(c.ask_x())\n",
    "print(s.last_tx)\n",
    "snap_04 = s.snapshot()\n",
    "snap_04"
   ]
  },
  {
   "cell_type": "markdown",
   "metadata": {},
   "source": [
    "We see that the tail of the previous proto-block has been repeated, with the notable exception of `\\xc0`, which seems to mark the end of the proto-block. In addition, calls to the same function in our contract yield different `last_tx` outputs. You can think of this phenomenon as part of the time-stamping in blockchain.\n",
    "\n",
    "Now let's mine once and see what comes out."
   ]
  },
  {
   "cell_type": "code",
   "execution_count": 162,
   "metadata": {
    "collapsed": true
   },
   "outputs": [],
   "source": [
    "s.mine(1)"
   ]
  },
  {
   "cell_type": "code",
   "execution_count": 163,
   "metadata": {
    "collapsed": false
   },
   "outputs": [
    {
     "name": "stdout",
     "output_type": "stream",
     "text": [
      "<Transaction(e370)>\n"
     ]
    },
    {
     "data": {
      "text/plain": [
       "'\\xf9\\x01\\xd5\\xf9\\x01\\xd0\\xa0\\x93\\xc8(\\xcc\\xae,\\xfe\\x93\\x84\\xc6\\x9b\\xce\\xf2-\\x10\\xa1|S\\x15Nua\\x81^\\xcb\\xc8\\xeeG\\xe7$\\x8fF\\xa0\\x1d\\xccM\\xe8\\xde\\xc7]z\\xab\\x85\\xb5g\\xb6\\xcc\\xd4\\x1a\\xd3\\x12E\\x1b\\x94\\x8at\\x13\\xf0\\xa1B\\xfd@\\xd4\\x93G\\x94\\x82\\xa9x\\xb3\\xf5\\x96*[\\tW\\xd9\\xee\\x9e\\xefG.\\xe5[B\\xf1\\xa0\\xb4R\\xf4:\\xf3\\xa8lJ\\xa3$\\x9du\\xc2\\xba\\x1de\\xaf\\xb9\\x84y\\xdb1\\xb9\\xd6\\n\\xde\\xae) \\xad&\\x1d\\xa0V\\xe8\\x1f\\x17\\x1b\\xccU\\xa6\\xff\\x83E\\xe6\\x92\\xc0\\xf8n[H\\xe0\\x1b\\x99l\\xad\\xc0\\x01b/\\xb5\\xe3c\\xb4!\\xa0V\\xe8\\x1f\\x17\\x1b\\xccU\\xa6\\xff\\x83E\\xe6\\x92\\xc0\\xf8n[H\\xe0\\x1b\\x99l\\xad\\xc0\\x01b/\\xb5\\xe3c\\xb4!\\xb9\\x01\\x00\\x00\\x00\\x00\\x00\\x00\\x00\\x00\\x00\\x00\\x00\\x00\\x00\\x00\\x00\\x00\\x00\\x00\\x00\\x00\\x00\\x00\\x00\\x00\\x00\\x00\\x00\\x00\\x00\\x00\\x00\\x00\\x00\\x00\\x00\\x00\\x00\\x00\\x00\\x00\\x00\\x00\\x00\\x00\\x00\\x00\\x00\\x00\\x00\\x00\\x00\\x00\\x00\\x00\\x00\\x00\\x00\\x00\\x00\\x00\\x00\\x00\\x00\\x00\\x00\\x00\\x00\\x00\\x00\\x00\\x00\\x00\\x00\\x00\\x00\\x00\\x00\\x00\\x00\\x00\\x00\\x00\\x00\\x00\\x00\\x00\\x00\\x00\\x00\\x00\\x00\\x00\\x00\\x00\\x00\\x00\\x00\\x00\\x00\\x00\\x00\\x00\\x00\\x00\\x00\\x00\\x00\\x00\\x00\\x00\\x00\\x00\\x00\\x00\\x00\\x00\\x00\\x00\\x00\\x00\\x00\\x00\\x00\\x00\\x00\\x00\\x00\\x00\\x00\\x00\\x00\\x00\\x00\\x00\\x00\\x00\\x00\\x00\\x00\\x00\\x00\\x00\\x00\\x00\\x00\\x00\\x00\\x00\\x00\\x00\\x00\\x00\\x00\\x00\\x00\\x00\\x00\\x00\\x00\\x00\\x00\\x00\\x00\\x00\\x00\\x00\\x00\\x00\\x00\\x00\\x00\\x00\\x00\\x00\\x00\\x00\\x00\\x00\\x00\\x00\\x00\\x00\\x00\\x00\\x00\\x00\\x00\\x00\\x00\\x00\\x00\\x00\\x00\\x00\\x00\\x00\\x00\\x00\\x00\\x00\\x00\\x00\\x00\\x00\\x00\\x00\\x00\\x00\\x00\\x00\\x00\\x00\\x00\\x00\\x00\\x00\\x00\\x00\\x00\\x00\\x00\\x00\\x00\\x00\\x00\\x00\\x00\\x00\\x00\\x00\\x00\\x00\\x00\\x00\\x00\\x00\\x00\\x00\\x00\\x00\\x00\\x00\\x00\\x00\\x00\\x00\\x00\\x00\\x00\\x00\\x00\\x00\\x00\\x00\\x00\\x00\\x00\\x83\\x02\\x00@\\x01\\x84;\\x8b\\xe48\\x80\\x84T\\x19\\xbe\\xb0\\x80\\x80\\x80\\xc0\\xc0'"
      ]
     },
     "execution_count": 163,
     "metadata": {},
     "output_type": "execute_result"
    }
   ],
   "source": [
    "print(s.last_tx)\n",
    "snap_11 = s.snapshot()\n",
    "snap_11"
   ]
  },
  {
   "cell_type": "code",
   "execution_count": 164,
   "metadata": {
    "collapsed": false
   },
   "outputs": [
    {
     "name": "stdout",
     "output_type": "stream",
     "text": [
      "<Transaction(e370)>\n"
     ]
    },
    {
     "data": {
      "text/plain": [
       "'\\x93\\xc8(\\xcc\\xae,\\xfe\\x93\\x84\\xc6\\x9b\\xce\\xf2-\\x10\\xa1|S\\x15Nua\\x81^\\xcb\\xc8\\xeeG\\xe7$\\x8fF'"
      ]
     },
     "execution_count": 164,
     "metadata": {},
     "output_type": "execute_result"
    }
   ],
   "source": [
    "print(s.last_tx)\n",
    "s.block.prevhash"
   ]
  },
  {
   "cell_type": "markdown",
   "metadata": {},
   "source": [
    "At least three things to note here: \n",
    "\n",
    "* our snapshot is now much shorter (since our proto-block has been hashed)\n",
    "* the last transaction is still 1901, and \n",
    "* the first two hash codes have been restored to `\\xf9\\x01` as in our genesis block\n",
    "\n",
    "The `snapshot` function actually has a different purpose, namely, to record a state of the blockchain so that we may later recover that state. For example,"
   ]
  },
  {
   "cell_type": "code",
   "execution_count": 165,
   "metadata": {
    "collapsed": false
   },
   "outputs": [
    {
     "data": {
      "text/plain": [
       "'\\xf9\\x03\\x8b\\xf9\\x01\\xfb\\xa0\\x00\\x00\\x00\\x00\\x00\\x00\\x00\\x00\\x00\\x00\\x00\\x00\\x00\\x00\\x00\\x00\\x00\\x00\\x00\\x00\\x00\\x00\\x00\\x00\\x00\\x00\\x00\\x00\\x00\\x00\\x00\\x00\\xa0\\x1d\\xccM\\xe8\\xde\\xc7]z\\xab\\x85\\xb5g\\xb6\\xcc\\xd4\\x1a\\xd3\\x12E\\x1b\\x94\\x8at\\x13\\xf0\\xa1B\\xfd@\\xd4\\x93G\\x94\\x82\\xa9x\\xb3\\xf5\\x96*[\\tW\\xd9\\xee\\x9e\\xefG.\\xe5[B\\xf1\\xa0\\xb5\\xfd\\xb1\\xeb\\xf6VK+\\x87\\x8e\\x18\\xd6\\xbc\\xcd\\xa4\\x98\\xab\\xc3\\x9f\\x93\\xd1\\xa0E\\x8cZ\\x03\\xc9\\xa3\\x1d\\x0c\\x96S\\xa0\\xf2\\xb5\\xcd\\xaeV\\xe9\\x11S\\x1d]\\x1d\\x89\\xafA\\x8a\\x95\\xfd\\xae\\xc5%\\x9cd\\xd1\\xc58\\x1a\\x05\\xc5\\x0b\\xc6\\xd41\\xa0\\xb0\\xceK\\xfb\\x8e\\x13\\xf9+\\x97\\x0f\\xde\\x06\\xb7\\xa8\\xfe\\t\\xe7W\\xbf \\x80\\x82V\\x04_\\xc7\\xb8W\\xc3,!K\\xb9\\x01\\x00\\x00\\x00\\x00\\x00\\x00\\x00\\x00\\x00\\x00\\x00\\x00\\x00\\x00\\x00\\x00\\x00\\x00\\x00\\x00\\x00\\x00\\x00\\x00\\x00\\x00\\x00\\x00\\x00\\x00\\x00\\x00\\x00\\x00\\x00\\x00\\x00\\x00\\x00\\x00\\x00\\x00\\x00\\x00\\x00\\x00\\x00\\x00\\x00\\x00\\x00\\x00\\x00\\x00\\x00\\x00\\x00\\x00\\x00\\x00\\x00\\x00\\x00\\x00\\x00\\x00\\x00\\x00\\x00\\x00\\x00\\x00\\x00\\x00\\x00\\x00\\x00\\x00\\x00\\x00\\x00\\x00\\x00\\x00\\x00\\x00\\x00\\x00\\x00\\x00\\x00\\x00\\x00\\x00\\x00\\x00\\x00\\x00\\x00\\x00\\x00\\x00\\x00\\x00\\x00\\x00\\x00\\x00\\x00\\x00\\x00\\x00\\x00\\x00\\x00\\x00\\x00\\x00\\x00\\x00\\x00\\x00\\x00\\x00\\x00\\x00\\x00\\x00\\x00\\x00\\x00\\x00\\x00\\x00\\x00\\x00\\x00\\x00\\x00\\x00\\x00\\x00\\x00\\x00\\x00\\x00\\x00\\x00\\x00\\x00\\x00\\x00\\x00\\x00\\x00\\x00\\x00\\x00\\x00\\x00\\x00\\x00\\x00\\x00\\x00\\x00\\x00\\x00\\x00\\x00\\x00\\x00\\x00\\x00\\x00\\x00\\x00\\x00\\x00\\x00\\x00\\x00\\x00\\x00\\x00\\x00\\x00\\x00\\x00\\x00\\x00\\x00\\x00\\x00\\x00\\x00\\x00\\x00\\x00\\x00\\x00\\x00\\x00\\x00\\x00\\x00\\x00\\x00\\x00\\x00\\x00\\x00\\x00\\x00\\x00\\x00\\x00\\x00\\x00\\x00\\x00\\x00\\x00\\x00\\x00\\x00\\x00\\x00\\x00\\x00\\x00\\x00\\x00\\x00\\x00\\x00\\x00\\x00\\x00\\x00\\x00\\x00\\x00\\x00\\x00\\x00\\x00\\x00\\x00\\x00\\x00\\x00\\x00\\x00\\x00\\x00\\x00\\x83\\x02\\x00\\x00\\x80\\x84;\\x9a\\xca\\x00\\x83\\x01\\xb5\\xdb\\x84T\\x19\\xbe\\xa5\\x80\\xa0\\x00\\x00\\x00\\x00\\x00\\x00\\x00\\x00\\x00\\x00\\x00\\x00\\x00\\x00\\x00\\x00\\x00\\x00\\x00\\x00\\x00\\x00\\x00\\x00\\x00\\x00\\x00\\x00\\x00\\x00\\x00\\x00\\x88\\x00\\x00\\x00\\x00\\x00\\x00\\x00*\\xf9\\x01\\x89\\xf8\\xbb\\x80\\x01\\x83/\\xef\\xd8\\x80\\x80\\xb8n`*`\\x00U`Z\\x80`\\x10`\\x009`jV|\\x01\\x00\\x00\\x00\\x00\\x00\\x00\\x00\\x00\\x00\\x00\\x00\\x00\\x00\\x00\\x00\\x00\\x00\\x00\\x00\\x00\\x00\\x00\\x00\\x00\\x00\\x00\\x00\\x00`\\x005\\x04c\\x82Pvd\\x81\\x14\\x15`8W`\\x00T`@R` `@\\xf3[c\\x90\\x90-\\xbb\\x81\\x14\\x15`XW`\\x01`\\x00T\\x01`\\x00U`\\x00T``R` ``\\xf3[P[`\\x00\\xf3\\x1c\\xa0\\xf97;\\xa9Y\\xf8Z*\\xcd\\xd1\\xd8\\xb6R%\\xd8U\\xc6\\x00\\x910\\xdfQ;K\\xf7\\xb4\\x8a?0\\x8eB\\xeb\\xa05M\\x19r\\xbb\\xc9\\x96\\xd9\\xfe#I%:\\x07\\xde\\xe2T20q\\xf5\\x03\\xad0\\xd3d\\x16\\xadi\\n_%\\xf8d\\x01\\x01\\x83/\\xef\\xd8\\x94\\xc3\\x05\\xc9\\x01\\x07\\x87\\x81\\xc22\\xa2\\xa5!\\xc2\\xafy\\x80\\xf88^\\xe9\\x80\\x84\\x90\\x90-\\xbb\\x1b\\xa0\\xde\\x7f)]\\xec\\x9b6H\\xee\\x14J#\\xd2\\x1c\\xf3H\\xab\\xd0\\xe4}\\x03_xSsgt\\x8e\\x99X\"\\x86\\xa0\\x1fy\\xfd\\x9bagd\\t|PI\\xfa\\xc8\\x03\\x01)U \\x88\\xd6\\xcc\\x8d\\xa9\\xfa\\xaf\\xfe@\\x98\\xbf;c\\xdc\\xf8d\\x02\\x01\\x83/\\xef\\xd8\\x94\\xc3\\x05\\xc9\\x01\\x07\\x87\\x81\\xc22\\xa2\\xa5!\\xc2\\xafy\\x80\\xf88^\\xe9\\x80\\x84\\x82Pvd\\x1b\\xa0\\x89\\x86%\\x912\\xdd\\xec\\xf3\\x8b\\xf6\\xbc\\xf6\\xa9\\'ZkA\\xb5:\\x7f\\xb4\\x19[Q\\x8c\\xc9%\\x96\\xb5\\x14\\x0f2\\xa0+\\x8e\\xd4\\xfb\\x97\\xa4\\xfb\\xa2tT\\xf0\\x17\\x14_\\xa4\\x8fF\\x0b\\xa6\\xee\\xec\\xda\\xec<y->\\x9bW\\xcfP\\x17\\xc0'"
      ]
     },
     "execution_count": 165,
     "metadata": {},
     "output_type": "execute_result"
    }
   ],
   "source": [
    "s.revert(snap_03)\n",
    "s.snapshot()"
   ]
  },
  {
   "cell_type": "markdown",
   "metadata": {},
   "source": [
    "And while it is interesting to see what the hash codes are after we append contract calls and try to decipher what they mean, there are more human readable ways to do this, as we will see in the next section. Before doing so, let's revert again to our final state from above."
   ]
  },
  {
   "cell_type": "code",
   "execution_count": 167,
   "metadata": {
    "collapsed": true
   },
   "outputs": [],
   "source": [
    "s.revert(snap_11)"
   ]
  },
  {
   "cell_type": "markdown",
   "metadata": {},
   "source": [
    "## Playing with blocks\n",
    "\n",
    "See *Miscellaneous* section of the Serpent Tutorial [here](https://www.gitbook.com/book/ethereumbuilders/guide/details)"
   ]
  },
  {
   "cell_type": "code",
   "execution_count": 168,
   "metadata": {
    "collapsed": false
   },
   "outputs": [
    {
     "name": "stdout",
     "output_type": "stream",
     "text": [
      "1\n",
      "131136\n",
      "999023672\n",
      "1410973360\n"
     ]
    },
    {
     "data": {
      "text/plain": [
       "'\\x82\\xa9x\\xb3\\xf5\\x96*[\\tW\\xd9\\xee\\x9e\\xefG.\\xe5[B\\xf1'"
      ]
     },
     "execution_count": 168,
     "metadata": {},
     "output_type": "execute_result"
    }
   ],
   "source": [
    "print(s.block.number)\n",
    "print(s.block.difficulty)\n",
    "print(s.block.gas_limit)\n",
    "print(s.block.timestamp)\n",
    "s.block.coinbase"
   ]
  },
  {
   "cell_type": "markdown",
   "metadata": {},
   "source": [
    "\n",
    "Alternatively, we can get the whole shebang in one go."
   ]
  },
  {
   "cell_type": "code",
   "execution_count": 169,
   "metadata": {
    "collapsed": false
   },
   "outputs": [
    {
     "data": {
      "text/plain": [
       "{'bloom': '00000000000000000000000000000000000000000000000000000000000000000000000000000000000000000000000000000000000000000000000000000000000000000000000000000000000000000000000000000000000000000000000000000000000000000000000000000000000000000000000000000000000000000000000000000000000000000000000000000000000000000000000000000000000000000000000000000000000000000000000000000000000000000000000000000000000000000000000000000000000000000000000000000000000000000000000000000000000000000000000000000000000000000000000000000000',\n",
       " 'coinbase': '82a978b3f5962a5b0957d9ee9eef472ee55b42f1',\n",
       " 'difficulty': '131136',\n",
       " 'extra_data': '0x',\n",
       " 'gas_limit': '999023672',\n",
       " 'gas_used': '0',\n",
       " 'mixhash': '0x',\n",
       " 'nonce': '0x',\n",
       " 'number': '1',\n",
       " 'prevhash': '0x93c828ccae2cfe9384c69bcef22d10a17c53154e7561815ecbc8ee47e7248f46',\n",
       " 'receipts_root': '56e81f171bcc55a6ff8345e692c0f86e5b48e01b996cadc001622fb5e363b421',\n",
       " 'state_root': 'b452f43af3a86c4aa3249d75c2ba1d65afb98479db31b9d60adeae2920ad261d',\n",
       " 'timestamp': '1410973360',\n",
       " 'tx_list_root': '56e81f171bcc55a6ff8345e692c0f86e5b48e01b996cadc001622fb5e363b421',\n",
       " 'uncles_hash': '0x1dcc4de8dec75d7aab85b567b6ccd41ad312451b948a7413f0a142fd40d49347'}"
      ]
     },
     "execution_count": 169,
     "metadata": {},
     "output_type": "execute_result"
    }
   ],
   "source": [
    "header_0 = s.block.header.to_dict()\n",
    "header_0"
   ]
  },
  {
   "cell_type": "code",
   "execution_count": 170,
   "metadata": {
    "collapsed": false
   },
   "outputs": [
    {
     "data": {
      "text/plain": [
       "dict"
      ]
     },
     "execution_count": 170,
     "metadata": {},
     "output_type": "execute_result"
    }
   ],
   "source": [
    "type(header_0) # Any guesses?"
   ]
  },
  {
   "cell_type": "markdown",
   "metadata": {},
   "source": [
    "Let's access the elements using the dictionary structure as well."
   ]
  },
  {
   "cell_type": "code",
   "execution_count": 171,
   "metadata": {
    "collapsed": false
   },
   "outputs": [
    {
     "name": "stdout",
     "output_type": "stream",
     "text": [
      "1\n",
      "0x\n",
      "0x93c828ccae2cfe9384c69bcef22d10a17c53154e7561815ecbc8ee47e7248f46\n",
      "82a978b3f5962a5b0957d9ee9eef472ee55b42f1\n"
     ]
    }
   ],
   "source": [
    "print(header_0['number'])\n",
    "print(header_0['nonce'])\n",
    "print(header_0['prevhash'])\n",
    "print(header_0['coinbase'])"
   ]
  },
  {
   "cell_type": "markdown",
   "metadata": {},
   "source": [
    "Observe that accessing the header via the dictionary results in hex outputs (e.g. for `coinbase`), while the call via a dedicated function gives a hash thereof corresponding to the address, as described in the previous tutorial.\n",
    "\n",
    "This particular field tells us who gets the ether from mining, which is by default `k0`."
   ]
  },
  {
   "cell_type": "code",
   "execution_count": 172,
   "metadata": {
    "collapsed": false
   },
   "outputs": [],
   "source": [
    "s.mine(1)"
   ]
  },
  {
   "cell_type": "code",
   "execution_count": 173,
   "metadata": {
    "collapsed": false
   },
   "outputs": [
    {
     "data": {
      "text/plain": [
       "1000010000000000000000000L"
      ]
     },
     "execution_count": 173,
     "metadata": {},
     "output_type": "execute_result"
    }
   ],
   "source": [
    "s.block.get_balance(t.a0) # Note the mining reward. Recall t.a0 == u.privtoaddr(t.k0)"
   ]
  },
  {
   "cell_type": "markdown",
   "metadata": {},
   "source": [
    "Contracts also have addresses on the blockchain"
   ]
  },
  {
   "cell_type": "code",
   "execution_count": 174,
   "metadata": {
    "collapsed": false
   },
   "outputs": [
    {
     "data": {
      "text/plain": [
       "'\\xc3\\x05\\xc9\\x01\\x07\\x87\\x81\\xc22\\xa2\\xa5!\\xc2\\xafy\\x80\\xf88^\\xe9'"
      ]
     },
     "execution_count": 174,
     "metadata": {},
     "output_type": "execute_result"
    }
   ],
   "source": [
    "c.address"
   ]
  },
  {
   "cell_type": "code",
   "execution_count": 175,
   "metadata": {
    "collapsed": false
   },
   "outputs": [
    {
     "data": {
      "text/plain": [
       "{'bloom': '00000000000000000000000000000000000000000000000000000000000000000000000000000000000000000000000000000000000000000000000000000000000000000000000000000000000000000000000000000000000000000000000000000000000000000000000000000000000000000000000000000000000000000000000000000000000000000000000000000000000000000000000000000000000000000000000000000000000000000000000000000000000000000000000000000000000000000000000000000000000000000000000000000000000000000000000000000000000000000000000000000000000000000000000000000000',\n",
       " 'coinbase': '7d577a597b2742b498cb5cf0c26cdcd726d39e6e',\n",
       " 'difficulty': '131456',\n",
       " 'extra_data': '0x',\n",
       " 'gas_limit': '988344225',\n",
       " 'gas_used': '0',\n",
       " 'mixhash': '0x',\n",
       " 'nonce': '0x',\n",
       " 'number': '12',\n",
       " 'prevhash': '0x1d049074805a59de71ca374a5271a6f02c0f8490679e3c984310a3346ddebc69',\n",
       " 'receipts_root': '56e81f171bcc55a6ff8345e692c0f86e5b48e01b996cadc001622fb5e363b421',\n",
       " 'state_root': 'cd3a4f15a87bafb9e7960a3682195192f9555d133441e1ff6dceec9fd87ea14b',\n",
       " 'timestamp': '1410973473',\n",
       " 'tx_list_root': '56e81f171bcc55a6ff8345e692c0f86e5b48e01b996cadc001622fb5e363b421',\n",
       " 'uncles_hash': '0x1dcc4de8dec75d7aab85b567b6ccd41ad312451b948a7413f0a142fd40d49347'}"
      ]
     },
     "execution_count": 175,
     "metadata": {},
     "output_type": "execute_result"
    }
   ],
   "source": [
    "s.mine(number_of_blocks = 10, coinbase = t.a1)\n",
    "s.block.header.to_dict()"
   ]
  },
  {
   "cell_type": "code",
   "execution_count": 176,
   "metadata": {
    "collapsed": false
   },
   "outputs": [
    {
     "data": {
      "text/plain": [
       "1000045000000000000000000L"
      ]
     },
     "execution_count": 176,
     "metadata": {},
     "output_type": "execute_result"
    }
   ],
   "source": [
    "s.block.get_balance(t.a1) # Note the bigger mining reward"
   ]
  },
  {
   "cell_type": "code",
   "execution_count": 177,
   "metadata": {
    "collapsed": false
   },
   "outputs": [
    {
     "data": {
      "text/plain": [
       "0"
      ]
     },
     "execution_count": 177,
     "metadata": {},
     "output_type": "execute_result"
    }
   ],
   "source": [
    "s.block.num_transactions()"
   ]
  },
  {
   "cell_type": "markdown",
   "metadata": {},
   "source": [
    "Let's make a new, still very basic contract to add a bit of variety to our transactions."
   ]
  },
  {
   "cell_type": "code",
   "execution_count": 180,
   "metadata": {
    "collapsed": false
   },
   "outputs": [
    {
     "name": "stdout",
     "output_type": "stream",
     "text": [
      "('b1', 1000014999999999999943056L)\n",
      "('b2', 1000014999999999996801464L)\n",
      "('b3', 1000014999999999999907970L, 1)\n"
     ]
    }
   ],
   "source": [
    "serpent_get_sender = '''\n",
    "def who_sent():\n",
    "    return(msg.sender)\n",
    "'''\n",
    "\n",
    "c_who = s.abi_contract(serpent_get_sender)"
   ]
  },
  {
   "cell_type": "code",
   "execution_count": 182,
   "metadata": {
    "collapsed": false
   },
   "outputs": [
    {
     "name": "stdout",
     "output_type": "stream",
     "text": [
      "('b1', 1000014999999999999886636L)\n",
      "('b2', 1000014999999999996745044L)\n",
      "('b3', 1000014999999999999865302L, 1)\n"
     ]
    },
    {
     "data": {
      "text/plain": [
       "'0x82a978b3f5962a5b0957d9ee9eef472ee55b42f1L'"
      ]
     },
     "execution_count": 182,
     "metadata": {},
     "output_type": "execute_result"
    }
   ],
   "source": [
    "hex(c_who.who_sent())"
   ]
  },
  {
   "cell_type": "code",
   "execution_count": 189,
   "metadata": {
    "collapsed": false
   },
   "outputs": [
    {
     "name": "stdout",
     "output_type": "stream",
     "text": [
      "('b1', 1000045000000000000156032L)\n",
      "('b2', 1000044999999999997014440L)\n",
      "('b3', 1000045000000000000156032L, 1)\n"
     ]
    },
    {
     "data": {
      "text/plain": [
       "'0x7d577a597b2742b498cb5cf0c26cdcd726d39e6eL'"
      ]
     },
     "execution_count": 189,
     "metadata": {},
     "output_type": "execute_result"
    }
   ],
   "source": [
    "hex(c_who.who_sent(sender = t.k1))"
   ]
  },
  {
   "cell_type": "markdown",
   "metadata": {},
   "source": [
    "What do our transactions look like now?"
   ]
  },
  {
   "cell_type": "code",
   "execution_count": 192,
   "metadata": {
    "collapsed": false
   },
   "outputs": [
    {
     "data": {
      "text/plain": [
       "10"
      ]
     },
     "execution_count": 192,
     "metadata": {},
     "output_type": "execute_result"
    }
   ],
   "source": [
    "s.block.num_transactions()"
   ]
  },
  {
   "cell_type": "code",
   "execution_count": 193,
   "metadata": {
    "collapsed": false
   },
   "outputs": [
    {
     "data": {
      "text/plain": [
       "[<Transaction(0827)>,\n",
       " <Transaction(2c91)>,\n",
       " <Transaction(fe3c)>,\n",
       " <Transaction(26eb)>,\n",
       " <Transaction(4d9c)>,\n",
       " <Transaction(bda6)>,\n",
       " <Transaction(70be)>,\n",
       " <Transaction(34bf)>,\n",
       " <Transaction(39b7)>,\n",
       " <Transaction(7328)>]"
      ]
     },
     "execution_count": 193,
     "metadata": {},
     "output_type": "execute_result"
    }
   ],
   "source": [
    "s.block.get_transactions()"
   ]
  },
  {
   "cell_type": "code",
   "execution_count": 196,
   "metadata": {
    "collapsed": false
   },
   "outputs": [
    {
     "data": {
      "text/plain": [
       "[<CachedBlock(#11 1d049074)>]"
      ]
     },
     "execution_count": 196,
     "metadata": {},
     "output_type": "execute_result"
    }
   ],
   "source": [
    "s.block.get_ancestor_list(1)"
   ]
  },
  {
   "cell_type": "code",
   "execution_count": 199,
   "metadata": {
    "collapsed": false
   },
   "outputs": [
    {
     "data": {
      "text/plain": [
       "[<ethereum.blocks.Receipt at 0x7f04585de510>,\n",
       " <ethereum.blocks.Receipt at 0x7f04585de3d0>,\n",
       " <ethereum.blocks.Receipt at 0x7f04585de590>,\n",
       " <ethereum.blocks.Receipt at 0x7f04585de5d0>,\n",
       " <ethereum.blocks.Receipt at 0x7f04585de550>,\n",
       " <ethereum.blocks.Receipt at 0x7f04585de710>,\n",
       " <ethereum.blocks.Receipt at 0x7f04585de690>,\n",
       " <ethereum.blocks.Receipt at 0x7f04585de750>,\n",
       " <ethereum.blocks.Receipt at 0x7f04585de7d0>,\n",
       " <ethereum.blocks.Receipt at 0x7f04585de6d0>]"
      ]
     },
     "execution_count": 199,
     "metadata": {},
     "output_type": "execute_result"
    }
   ],
   "source": [
    "s.block.get_receipts()"
   ]
  },
  {
   "cell_type": "code",
   "execution_count": 200,
   "metadata": {
    "collapsed": false
   },
   "outputs": [
    {
     "data": {
      "text/plain": [
       "''"
      ]
     },
     "execution_count": 200,
     "metadata": {},
     "output_type": "execute_result"
    }
   ],
   "source": [
    "s.block.get_code(t.a0)"
   ]
  },
  {
   "cell_type": "code",
   "execution_count": 205,
   "metadata": {
    "collapsed": false
   },
   "outputs": [
    {
     "name": "stdout",
     "output_type": "stream",
     "text": [
      "('b1', 1000014999999999999843968L)\n",
      "('b2', 1000014999999999996702376L)\n",
      "('b3', 1000014999999999999822634L, 1)\n"
     ]
    },
    {
     "data": {
      "text/plain": [
       "745948140856946866108753121277737810491401257713L"
      ]
     },
     "execution_count": 205,
     "metadata": {},
     "output_type": "execute_result"
    }
   ],
   "source": [
    "c_who.who_sent()"
   ]
  },
  {
   "cell_type": "code",
   "execution_count": 206,
   "metadata": {
    "collapsed": false
   },
   "outputs": [
    {
     "data": {
      "text/plain": [
       "{'balance': '1000014999999999999822634',\n",
       " 'code': '0x',\n",
       " 'nonce': '12',\n",
       " 'storage': {}}"
      ]
     },
     "execution_count": 206,
     "metadata": {},
     "output_type": "execute_result"
    }
   ],
   "source": [
    "s.block.account_to_dict(t.a0)"
   ]
  },
  {
   "cell_type": "code",
   "execution_count": null,
   "metadata": {
    "collapsed": true
   },
   "outputs": [],
   "source": []
  }
 ],
 "metadata": {
  "kernelspec": {
   "display_name": "Python 2",
   "language": "python",
   "name": "python2"
  },
  "language_info": {
   "codemirror_mode": {
    "name": "ipython",
    "version": 2
   },
   "file_extension": ".py",
   "mimetype": "text/x-python",
   "name": "python",
   "nbconvert_exporter": "python",
   "pygments_lexer": "ipython2",
   "version": "2.7.11+"
  }
 },
 "nbformat": 4,
 "nbformat_minor": 0
}
