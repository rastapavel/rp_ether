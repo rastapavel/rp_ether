{
 "cells": [
  {
   "cell_type": "code",
   "execution_count": 137,
   "metadata": {
    "collapsed": false
   },
   "outputs": [],
   "source": [
    "import serpent\n",
    "from ethereum import tester as t, utils as u, abi\n",
    "\n",
    "s = t.state()"
   ]
  },
  {
   "cell_type": "code",
   "execution_count": 138,
   "metadata": {
    "collapsed": false
   },
   "outputs": [
    {
     "name": "stdout",
     "output_type": "stream",
     "text": [
      "('b1', 1000000000000000000000000L)\n",
      "('b2', 999999999999999996858408L)\n",
      "('b3', 1000000000000000000000000L, 1)\n"
     ]
    }
   ],
   "source": [
    "serpent_vars_basic = '''\n",
    "data x # Declare variable x. By default, x is numeric\n",
    "\n",
    "def init():\n",
    "    self.x = 42\n",
    "    \n",
    "def ask_x():\n",
    "    return(self.x)\n",
    "\n",
    "def incr_x():\n",
    "    self.x = self.x + 1\n",
    "    return(self.x)\n",
    "\n",
    "'''\n",
    "\n",
    "#s = t.state() # Commented out, since we don't need to reboot out test blockchain\n",
    "c = s.abi_contract(serpent_vars_basic)"
   ]
  },
  {
   "cell_type": "code",
   "execution_count": 139,
   "metadata": {
    "collapsed": false
   },
   "outputs": [
    {
     "name": "stdout",
     "output_type": "stream",
     "text": [
      "('b1', 1000000000000000000000000L)\n",
      "('b2', 999999999999999996858408L)\n",
      "('b3', 1000000000000000000000000L, 1)\n",
      "42\n",
      "('b1', 1000000000000000000000000L)\n",
      "('b2', 999999999999999996858408L)\n",
      "('b3', 1000000000000000000000000L, 1)\n",
      "43\n",
      "('b1', 1000000000000000000000000L)\n",
      "('b2', 999999999999999996858408L)\n",
      "('b3', 1000000000000000000000000L, 1)\n",
      "43\n"
     ]
    }
   ],
   "source": [
    "print(c.ask_x())\n",
    "print(c.incr_x())\n",
    "print(c.ask_x())"
   ]
  },
  {
   "cell_type": "markdown",
   "metadata": {},
   "source": [
    "## Test accounts\n",
    "Pyethereum defines in `tester` 10 dummy accounts, the first (actually 0th) of which is by default the sender of all contracts."
   ]
  },
  {
   "cell_type": "code",
   "execution_count": 140,
   "metadata": {
    "collapsed": false
   },
   "outputs": [
    {
     "name": "stdout",
     "output_type": "stream",
     "text": [
      "('b1', 1000000000000000000000000L)\n",
      "('b2', 999999999999999996858408L)\n",
      "('b3', 1000000000000000000000000L, 1)\n"
     ]
    }
   ],
   "source": [
    "serpent_accts = '''\n",
    "def ask_sender():\n",
    "    return(msg.sender)\n",
    "'''\n",
    "\n",
    "c_accts = s.abi_contract(serpent_accts)"
   ]
  },
  {
   "cell_type": "code",
   "execution_count": 141,
   "metadata": {
    "collapsed": false
   },
   "outputs": [
    {
     "name": "stdout",
     "output_type": "stream",
     "text": [
      "('b1', 1000000000000000000000000L)\n",
      "('b2', 999999999999999996858408L)\n",
      "('b3', 1000000000000000000000000L, 1)\n",
      "745948140856946866108753121277737810491401257713\n"
     ]
    }
   ],
   "source": [
    "k0_int = c_accts.ask_sender()\n",
    "print(k0_int)"
   ]
  },
  {
   "cell_type": "markdown",
   "metadata": {},
   "source": [
    "The function `ask_sender` returns a (bit) integer, which is some identifier of the dummy account `k0`. Let's test this, using variable names as in the University of Maryland [tutorial](http://mc2-umd.github.io/ethereumlab/docs/serpent_tutorial.pdf)."
   ]
  },
  {
   "cell_type": "code",
   "execution_count": 142,
   "metadata": {
    "collapsed": false
   },
   "outputs": [
    {
     "data": {
      "text/plain": [
       "'\\x82\\xa9x\\xb3\\xf5\\x96*[\\tW\\xd9\\xee\\x9e\\xefG.\\xe5[B\\xf1'"
      ]
     },
     "execution_count": 142,
     "metadata": {},
     "output_type": "execute_result"
    }
   ],
   "source": [
    "public_k0 = u.privtoaddr(t.k0)\n",
    "public_k0"
   ]
  },
  {
   "cell_type": "markdown",
   "metadata": {},
   "source": [
    "What is this? Let's get to this another way, recalling that `t.ko` is the default message sender"
   ]
  },
  {
   "cell_type": "code",
   "execution_count": 143,
   "metadata": {
    "collapsed": false
   },
   "outputs": [
    {
     "data": {
      "text/plain": [
       "'0x82a978b3f5962a5b0957d9ee9eef472ee55b42f1L'"
      ]
     },
     "execution_count": 143,
     "metadata": {},
     "output_type": "execute_result"
    }
   ],
   "source": [
    "k0_hex = hex(k0_int)\n",
    "k0_hex"
   ]
  },
  {
   "cell_type": "markdown",
   "metadata": {},
   "source": [
    "And in reverse:"
   ]
  },
  {
   "cell_type": "code",
   "execution_count": 144,
   "metadata": {
    "collapsed": false
   },
   "outputs": [
    {
     "data": {
      "text/plain": [
       "True"
      ]
     },
     "execution_count": 144,
     "metadata": {},
     "output_type": "execute_result"
    }
   ],
   "source": [
    "int(0x82a978b3f5962a5b0957d9ee9eef472ee55b42f1L) == k0_int"
   ]
  },
  {
   "cell_type": "markdown",
   "metadata": {},
   "source": [
    "To see what kind of a thing `public_k0` is as printed, note that tester `t` has a function `t.ascii_chr()`. If you are usind an IDE such as [PyCharm](https://www.jetbrains.com/pycharm/specials/pycharm/pycharm.html), then typing into iPython `t.` you will see a pop-up box with all methods associated with the pyethereum tester. That's how I found `t.ascii_chr()`. In Python, this is just the `chr()` command (see the Python documentation [here](https://docs.python.org/2/library/functions.html)).\n",
    "\n",
    "You would think that `public_k0` should be the hex string of `hex(k0_int)` above, and this seems largely to be the case, but where do the other characters such as `*` and `[` fit in? It seems that `public_k0` is not the public key of account `t.k0`, but rather the hash of this account (private, public key, maybe a nonce in there).\n",
    "\n",
    "It should not be just the hash of the public key, as can be seen below, since in blockchain transactions, we don't want things to depend only on the public key."
   ]
  },
  {
   "cell_type": "code",
   "execution_count": 145,
   "metadata": {
    "collapsed": false
   },
   "outputs": [
    {
     "data": {
      "text/plain": [
       "'&\\x01\\xe8#E\\xb8\\x9d@\\x02\\x96\\x83\\xe1\\xafI\\xc0\\xaa-\\xacx\\xbb\\x94\\xa4H`\\x0f\\x92hpp\\x82K7'"
      ]
     },
     "execution_count": 145,
     "metadata": {},
     "output_type": "execute_result"
    }
   ],
   "source": [
    "t.sha3(0x82a978b3f5962a5b0957d9ee9eef472ee55b42f1L)"
   ]
  },
  {
   "cell_type": "code",
   "execution_count": 146,
   "metadata": {
    "collapsed": false
   },
   "outputs": [
    {
     "data": {
      "text/plain": [
       "'\\x82'"
      ]
     },
     "execution_count": 146,
     "metadata": {},
     "output_type": "execute_result"
    }
   ],
   "source": [
    "chr(0x82)"
   ]
  },
  {
   "cell_type": "markdown",
   "metadata": {},
   "source": [
    "In this case, the [source code](https://github.com/ethereum/pyethereum/blob/develop/ethereum/utils.py) for `u.privtoaddr()` helps us quite quickly to see what is actually going on"
   ]
  },
  {
   "cell_type": "markdown",
   "metadata": {},
   "source": [
    "`def privtoaddr(x, extended=False):\n",
    "    if len(x) > 32:\n",
    "        x = decode_hex(x)\n",
    "    o = sha3(privtopub(x)[1:])[12:]\n",
    "return add_checksum(o) if extended else o`"
   ]
  },
  {
   "cell_type": "markdown",
   "metadata": {},
   "source": [
    "First, `decode_hex` is a method imported from `rlp_utils`, and `privtopub` is imported from `bitcoin`, and then, as guessed at above, we hash the public key (starting at the 2nd character), and return the characters starting from 13 (note that `len(t.k0)` is 32, so we don't call `decode_hex` in this example).\n",
    "\n",
    "Let's pull this function apart explicitly."
   ]
  },
  {
   "cell_type": "code",
   "execution_count": 147,
   "metadata": {
    "collapsed": false
   },
   "outputs": [
    {
     "data": {
      "text/plain": [
       "'\\x04\\xd6q\\x04\\xe6[a\\xfc\\xa1\\xfcs\\xa7Auf|\\x11\\xf1l\\x03\\x7f\\xa8\\xe4\\x14I\\x91\\x89\\xdf\\x9dhpj\\xcan\\x1a\\x1bN\\xa0+p/\\x10\\x1e\\xb6\\t\\xc4\\xcd)d\\xd4y\\x00G\\xa0dX\\xba\\x8a\\x1a\\x19\\x04\\n\\xb1\\xfe\\r'"
      ]
     },
     "execution_count": 147,
     "metadata": {},
     "output_type": "execute_result"
    }
   ],
   "source": [
    "import bitcoin as bc\n",
    "x = t.k0\n",
    "x_public = bc.privtopub(x)\n",
    "x_public\n"
   ]
  },
  {
   "cell_type": "code",
   "execution_count": 148,
   "metadata": {
    "collapsed": false
   },
   "outputs": [
    {
     "data": {
      "text/plain": [
       "'\\xb0m\\xf7\\xbd\\xf0(2\\xa7\\xfb\\xe6\\x9ai\\x82\\xa9x\\xb3\\xf5\\x96*[\\tW\\xd9\\xee\\x9e\\xefG.\\xe5[B\\xf1'"
      ]
     },
     "execution_count": 148,
     "metadata": {},
     "output_type": "execute_result"
    }
   ],
   "source": [
    "x_hash_inside = t.sha3(x_public[1:])\n",
    "x_hash_inside"
   ]
  },
  {
   "cell_type": "code",
   "execution_count": 149,
   "metadata": {
    "collapsed": false
   },
   "outputs": [
    {
     "data": {
      "text/plain": [
       "'\\x82\\xa9x\\xb3\\xf5\\x96*[\\tW\\xd9\\xee\\x9e\\xefG.\\xe5[B\\xf1'"
      ]
     },
     "execution_count": 149,
     "metadata": {},
     "output_type": "execute_result"
    }
   ],
   "source": [
    "x_hash_outside = x_hash_inside[12:]\n",
    "x_hash_outside"
   ]
  },
  {
   "cell_type": "code",
   "execution_count": 150,
   "metadata": {
    "collapsed": false
   },
   "outputs": [
    {
     "data": {
      "text/plain": [
       "True"
      ]
     },
     "execution_count": 150,
     "metadata": {},
     "output_type": "execute_result"
    }
   ],
   "source": [
    "x_hash_outside == public_k0"
   ]
  },
  {
   "cell_type": "markdown",
   "metadata": {},
   "source": [
    "In summary, `u.privtoaddr(x)` does not return the public key (so we will change our variable names soon), but rather the address (hash) of the account `x`, which requires both the private and public keys to generate (???). In the test environment here, these are pre-packaged into the test accounts `k0` to `k9`."
   ]
  },
  {
   "cell_type": "code",
   "execution_count": 151,
   "metadata": {
    "collapsed": false
   },
   "outputs": [
    {
     "data": {
      "text/plain": [
       "'\\x82\\xa9x\\xb3\\xf5\\x96*[\\tW\\xd9\\xee\\x9e\\xefG.\\xe5[B\\xf1'"
      ]
     },
     "execution_count": 151,
     "metadata": {},
     "output_type": "execute_result"
    }
   ],
   "source": [
    "%xdel public_k0\n",
    "addr_k0 = u.privtoaddr(t.k0)\n",
    "addr_k0"
   ]
  },
  {
   "cell_type": "code",
   "execution_count": 152,
   "metadata": {
    "collapsed": false
   },
   "outputs": [
    {
     "data": {
      "text/plain": [
       "\"}WzY{'B\\xb4\\x98\\xcb\\\\\\xf0\\xc2l\\xdc\\xd7&\\xd3\\x9en\""
      ]
     },
     "execution_count": 152,
     "metadata": {},
     "output_type": "execute_result"
    }
   ],
   "source": [
    "addr_k1 = u.privtoaddr(t.k1)\n",
    "addr_k1"
   ]
  },
  {
   "cell_type": "code",
   "execution_count": 153,
   "metadata": {
    "collapsed": false
   },
   "outputs": [
    {
     "name": "stdout",
     "output_type": "stream",
     "text": [
      "('b1', 1000000000000000000000000L)\n",
      "('b2', 999999999999999996858408L)\n",
      "('b3', 999999999999999999978666L, 1)\n"
     ]
    },
    {
     "data": {
      "text/plain": [
       "'0x7d577a597b2742b498cb5cf0c26cdcd726d39e6eL'"
      ]
     },
     "execution_count": 153,
     "metadata": {},
     "output_type": "execute_result"
    }
   ],
   "source": [
    "addr_int_k1 = c_accts.ask_sender(sender = t.k1)\n",
    "addr_k1_hex = hex(addr_int_k1)\n",
    "addr_k1_hex"
   ]
  }
 ],
 "metadata": {
  "kernelspec": {
   "display_name": "Python 2",
   "language": "python",
   "name": "python2"
  },
  "language_info": {
   "codemirror_mode": {
    "name": "ipython",
    "version": 2
   },
   "file_extension": ".py",
   "mimetype": "text/x-python",
   "name": "python",
   "nbconvert_exporter": "python",
   "pygments_lexer": "ipython2",
   "version": "2.7.11+"
  }
 },
 "nbformat": 4,
 "nbformat_minor": 0
}
