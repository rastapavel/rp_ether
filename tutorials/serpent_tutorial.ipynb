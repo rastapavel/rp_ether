{
 "cells": [
  {
   "cell_type": "markdown",
   "metadata": {},
   "source": [
    "# A Trial-and-Error Serpent Tutorial\n",
    "\n",
    "The documentation on Serpent and Pyethereum, the Python way to do smart contracts on Ethereum, is a self-acknowledged work in progess. For people like myself who have a decent programming background, but not enough to jump right into its [source code](https://github.com/ethereum/pyethereum/) on GitHub, learning Serpent and Pyethereum means patching together existing tutorials (with occasional deprecated commands) and lots of trial and error.\n",
    "\n",
    "By design, these tutorials are not a primer. It would even be fair to call them 'anti-primers,' since we without exception take scenic routes (via trial and error) rather than direct.\n",
    "\n",
    "Several existing tutorials contain deprecated commands that do not work as of 2016. One tell-tale sign that a tutorial is too old to be used word-for-word is if it tells you to `import pyethereum` (as of writing, it should be `import ethereum`. Nonetheless, these tutorials are a good starting point. What follows is intended to build on these, such as\n",
    "\n",
    "* [Ethereum programming guide blog, 2014](https://blog.ethereum.org/2014/04/10/pyethereum-and-serpent-programming-guide/) Partly out-of-date\n",
    "* [University of Maryland Serpent Tutorials and Example Code](http://mc2-umd.github.io/ethereumlab/) Many examples, partly out-of-date (replace `import pyethereum` with `import ethereum`)\n",
    "* [Ethereum Wiki Serpent Tutorial](https://github.com/ethereum/wiki/wiki/Serpent) Up-to-date, as far as I can tell\n",
    "\n",
    "\n",
    "\n",
    "## Smart contracts and the importance of the \"self\"\n",
    "Declaration, initialization and modification of variables are key capabilities for any programming language. Here, we give examples of how this does (and doesn't) work in Serpent in the simple case of declaring and incrementing an integer within a Serpent contract."
   ]
  },
  {
   "cell_type": "code",
   "execution_count": 6,
   "metadata": {
    "collapsed": false
   },
   "outputs": [],
   "source": [
    "import serpent\n",
    "from ethereum import tester as t, utils as u, abi"
   ]
  },
  {
   "cell_type": "code",
   "execution_count": 24,
   "metadata": {
    "collapsed": false
   },
   "outputs": [
    {
     "name": "stdout",
     "output_type": "stream",
     "text": [
      "('b1', 1000000000000000000000000L)\n",
      "('b2', 999999999999999996858408L)\n",
      "('b3', 1000000000000000000000000L, 1)\n"
     ]
    }
   ],
   "source": [
    "serpent_vars_basic_wrong_init = '''\n",
    "data x # Declare variable x. By default, x is numeric\n",
    "x = 42\n",
    "    \n",
    "def ask_x_selfless():\n",
    "    return(x)\n",
    "\n",
    "def ask_x_self():\n",
    "    return(self.x)\n",
    "\n",
    "def incr_x_wrong():\n",
    "    x = x+1\n",
    "    return(x)\n",
    "\n",
    "def incr_x():\n",
    "    self.x = self.x + 1\n",
    "    return(self.x)\n",
    "\n",
    "'''\n",
    "\n",
    "s = t.state() # Initialize private blockchain\n",
    "c_wrong = s.abi_contract(serpent_vars_basic_wrong_init) # Compile contract"
   ]
  },
  {
   "cell_type": "code",
   "execution_count": 25,
   "metadata": {
    "collapsed": false
   },
   "outputs": [
    {
     "name": "stdout",
     "output_type": "stream",
     "text": [
      "('b1', 1000000000000000000000000L)\n",
      "('b2', 999999999999999996858408L)\n",
      "('b3', 1000000000000000000000000L, 1)\n",
      "42\n",
      "('b1', 1000000000000000000000000L)\n",
      "('b2', 999999999999999996858408L)\n",
      "('b3', 1000000000000000000000000L, 1)\n",
      "43\n",
      "('b1', 1000000000000000000000000L)\n",
      "('b2', 999999999999999996858408L)\n",
      "('b3', 1000000000000000000000000L, 1)\n",
      "42\n"
     ]
    }
   ],
   "source": [
    "# \"self\"-less \n",
    "print(c_wrong.ask_x_selfless())\n",
    "print(c_wrong.incr_x_wrong()) # x only changed within function\n",
    "print(c_wrong.ask_x_selfless())\n"
   ]
  },
  {
   "cell_type": "markdown",
   "metadata": {},
   "source": [
    "Note that querying `x` without `self` works OK, but if we want to change the definition of `x` in the contract (not just locally within the function), then the 'self-less' code does not do what we want."
   ]
  },
  {
   "cell_type": "code",
   "execution_count": 26,
   "metadata": {
    "collapsed": false
   },
   "outputs": [
    {
     "name": "stdout",
     "output_type": "stream",
     "text": [
      "('b1', 1000000000000000000000000L)\n",
      "('b2', 999999999999999996858408L)\n",
      "('b3', 1000000000000000000000000L, 1)\n",
      "0\n",
      "('b1', 1000000000000000000000000L)\n",
      "('b2', 999999999999999996858408L)\n",
      "('b3', 1000000000000000000000000L, 1)\n",
      "1\n",
      "('b1', 1000000000000000000000000L)\n",
      "('b2', 999999999999999996858408L)\n",
      "('b3', 1000000000000000000000000L, 1)\n",
      "1\n"
     ]
    }
   ],
   "source": [
    "# Now with \"self\"\n",
    "print(c_wrong.ask_x_self())\n",
    "print(c_wrong.incr_x())\n",
    "print(c_wrong.ask_x_self())\n"
   ]
  },
  {
   "cell_type": "markdown",
   "metadata": {},
   "source": [
    "Now we are closer: our function `incr_x` does indeed change the variable value for the contract, but `ask_x_self` returns 0, not the 42 we initialized it to.\n",
    "\n",
    "What if we mix and match, using `self` when we want to modify, but 'self-less' to query?"
   ]
  },
  {
   "cell_type": "code",
   "execution_count": 20,
   "metadata": {
    "collapsed": false
   },
   "outputs": [
    {
     "name": "stdout",
     "output_type": "stream",
     "text": [
      "('b1', 1000000000000000000000000L)\n",
      "('b2', 999999999999999996858408L)\n",
      "('b3', 1000000000000000000000000L, 1)\n",
      "42\n",
      "('b1', 1000000000000000000000000L)\n",
      "('b2', 999999999999999996858408L)\n",
      "('b3', 1000000000000000000000000L, 1)\n",
      "4\n",
      "('b1', 1000000000000000000000000L)\n",
      "('b2', 999999999999999996858408L)\n",
      "('b3', 1000000000000000000000000L, 1)\n",
      "42\n",
      "('b1', 1000000000000000000000000L)\n",
      "('b2', 999999999999999996858408L)\n",
      "('b3', 1000000000000000000000000L, 1)\n",
      "4\n"
     ]
    }
   ],
   "source": [
    "print(c_wrong.ask_x_selfless())\n",
    "print(c_wrong.incr_x())\n",
    "print(c_wrong.ask_x_selfless())\n",
    "print(c_wrong.ask_x_self())"
   ]
  },
  {
   "cell_type": "markdown",
   "metadata": {},
   "source": [
    "So it seems that using `self` enables us to change the value of `x`, but it seems we are initializing `x` the wrong way. To correct this, we use the `init()` function in Serpent."
   ]
  },
  {
   "cell_type": "code",
   "execution_count": 37,
   "metadata": {
    "collapsed": false
   },
   "outputs": [
    {
     "name": "stdout",
     "output_type": "stream",
     "text": [
      "('b1', 1000000000000000000000000L)\n",
      "('b2', 999999999999999996858408L)\n",
      "('b3', 1000000000000000000000000L, 1)\n"
     ]
    }
   ],
   "source": [
    "serpent_vars_basic = '''\n",
    "data x # Declare variable x. By default, x is numeric\n",
    "\n",
    "def init():\n",
    "    self.x = 42\n",
    "    \n",
    "def ask_x_selfless():\n",
    "    return(x)\n",
    "\n",
    "def ask_x_self():\n",
    "    return(self.x)\n",
    "\n",
    "def incr_x_wrong():\n",
    "    x = x+1\n",
    "    return(x)\n",
    "\n",
    "def incr_x():\n",
    "    self.x = self.x + 1\n",
    "    return(self.x)\n",
    "\n",
    "'''\n",
    "\n",
    "#s = t.state() # Commented out, since we don't need to reboot out test blockchain\n",
    "c = s.abi_contract(serpent_vars_basic)"
   ]
  },
  {
   "cell_type": "code",
   "execution_count": 40,
   "metadata": {
    "collapsed": false
   },
   "outputs": [
    {
     "name": "stdout",
     "output_type": "stream",
     "text": [
      "('b1', 1000000000000000000000000L)\n",
      "('b2', 999999999999999996858408L)\n",
      "('b3', 1000000000000000000000000L, 1)\n",
      "0\n",
      "('b1', 1000000000000000000000000L)\n",
      "('b2', 999999999999999996858408L)\n",
      "('b3', 1000000000000000000000000L, 1)\n",
      "1\n",
      "('b1', 1000000000000000000000000L)\n",
      "('b2', 999999999999999996858408L)\n",
      "('b3', 1000000000000000000000000L, 1)\n",
      "0\n"
     ]
    }
   ],
   "source": [
    "# \"self\"-less \n",
    "print(c.ask_x_selfless())\n",
    "print(c.incr_x_wrong()) # x only changed within function\n",
    "print(c.ask_x_selfless())\n"
   ]
  },
  {
   "cell_type": "code",
   "execution_count": 41,
   "metadata": {
    "collapsed": false,
    "scrolled": true
   },
   "outputs": [
    {
     "name": "stdout",
     "output_type": "stream",
     "text": [
      "('b1', 1000000000000000000000000L)\n",
      "('b2', 999999999999999996858408L)\n",
      "('b3', 1000000000000000000000000L, 1)\n",
      "42\n",
      "('b1', 1000000000000000000000000L)\n",
      "('b2', 999999999999999996858408L)\n",
      "('b3', 1000000000000000000000000L, 1)\n",
      "43\n",
      "('b1', 1000000000000000000000000L)\n",
      "('b2', 999999999999999996858408L)\n",
      "('b3', 1000000000000000000000000L, 1)\n",
      "43\n"
     ]
    }
   ],
   "source": [
    "# Now with \"self\"\n",
    "print(c.ask_x_self())\n",
    "print(c.incr_x())\n",
    "print(c.ask_x_self())\n"
   ]
  },
  {
   "cell_type": "markdown",
   "metadata": {},
   "source": [
    "## Strings in Serpent functions\n",
    "This I do not yet understand. See my (still unanswered) [question](http://ethereum.stackexchange.com/questions/7137/serpent-function-to-compare-strings) on Ethereum StackExchange"
   ]
  }
 ],
 "metadata": {
  "kernelspec": {
   "display_name": "Python 2",
   "language": "python",
   "name": "python2"
  },
  "language_info": {
   "codemirror_mode": {
    "name": "ipython",
    "version": 2
   },
   "file_extension": ".py",
   "mimetype": "text/x-python",
   "name": "python",
   "nbconvert_exporter": "python",
   "pygments_lexer": "ipython2",
   "version": "2.7.11+"
  }
 },
 "nbformat": 4,
 "nbformat_minor": 0
}
