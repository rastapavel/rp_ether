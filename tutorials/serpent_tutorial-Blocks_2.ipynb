{
 "cells": [
  {
   "cell_type": "markdown",
   "metadata": {},
   "source": [
    "In the previous tutorial, we found ways to get meta data about blocks, and about transactions before they are mined into a block. If you are interested in data analytics, this is still a rather unsatisfying situation. It may some day be a 'ledger of everything,' and if you are like me, then you are interested in reading this ledger. Or getting Python to do it for you.\n",
    "\n",
    "Many thanks to the [Easy There Entropy](https://easythereentropy.wordpress.com/) blog entry on the [ethereum trie](https://easythereentropy.wordpress.com/2014/06/04/understanding-the-ethereum-trie/)"
   ]
  },
  {
   "cell_type": "code",
   "execution_count": null,
   "metadata": {
    "collapsed": true
   },
   "outputs": [],
   "source": [
    "import serpent\n",
    "from ethereum import tester as t, utils as u, abi\n",
    "\n",
    "s = t.state()"
   ]
  }
 ],
 "metadata": {
  "kernelspec": {
   "display_name": "Python 2",
   "language": "python",
   "name": "python2"
  },
  "language_info": {
   "codemirror_mode": {
    "name": "ipython",
    "version": 2
   },
   "file_extension": ".py",
   "mimetype": "text/x-python",
   "name": "python",
   "nbconvert_exporter": "python",
   "pygments_lexer": "ipython2",
   "version": "2.7.11+"
  }
 },
 "nbformat": 4,
 "nbformat_minor": 0
}
